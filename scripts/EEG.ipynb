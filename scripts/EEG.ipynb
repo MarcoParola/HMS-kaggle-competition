{
 "cells": [
  {
   "cell_type": "code",
   "execution_count": 6,
   "metadata": {
    "collapsed": true
   },
   "outputs": [
    {
     "name": "stdout",
     "output_type": "stream",
     "text": [
      "Prime 5 righe del dataframe:\n"
     ]
    },
    {
     "data": {
      "text/plain": "      Fp1     F3     C3     P3     F7     T3     T5     O1      Fz     Cz  \\\n0 -109.79 -84.01 -19.67  19.67 -64.33  -1.06  18.34  36.15  -84.27 -48.12   \n1 -105.80 -90.65 -31.10  12.49 -77.62 -13.29   9.04  31.63  -87.99 -57.16   \n2 -126.81 -99.96 -41.74   5.58 -89.06 -23.39   3.46  32.70 -101.02 -68.05   \n3 -133.98 -97.56 -38.81   6.91 -94.11 -21.53   8.24  38.28 -105.54 -70.71   \n4 -114.04 -88.79 -33.50  10.10 -85.60 -22.06   6.38  37.48  -93.58 -65.93   \n\n      Pz     Fp2     F4     C4     P4     F8     T4     T6     O2     EKG  \n0 -73.64  -87.20 -25.79 -17.28   5.58 -33.23  -3.46  13.03  -1.33 -231.54  \n1 -75.23  -84.27 -38.81 -28.18  -5.32 -45.99 -14.62   0.53 -11.96 -466.55  \n2 -87.99 -102.88 -51.84 -38.01 -11.70 -58.48 -24.99  -6.65 -17.01 -486.49  \n3 -91.18 -109.79 -49.98 -34.82  -7.71 -57.42 -19.67  -2.13 -10.37 -380.95  \n4 -82.14  -91.45 -43.60 -29.77  -3.72 -53.17 -14.09   1.06 -11.43 -219.58  ",
      "text/html": "<div>\n<style scoped>\n    .dataframe tbody tr th:only-of-type {\n        vertical-align: middle;\n    }\n\n    .dataframe tbody tr th {\n        vertical-align: top;\n    }\n\n    .dataframe thead th {\n        text-align: right;\n    }\n</style>\n<table border=\"1\" class=\"dataframe\">\n  <thead>\n    <tr style=\"text-align: right;\">\n      <th></th>\n      <th>Fp1</th>\n      <th>F3</th>\n      <th>C3</th>\n      <th>P3</th>\n      <th>F7</th>\n      <th>T3</th>\n      <th>T5</th>\n      <th>O1</th>\n      <th>Fz</th>\n      <th>Cz</th>\n      <th>Pz</th>\n      <th>Fp2</th>\n      <th>F4</th>\n      <th>C4</th>\n      <th>P4</th>\n      <th>F8</th>\n      <th>T4</th>\n      <th>T6</th>\n      <th>O2</th>\n      <th>EKG</th>\n    </tr>\n  </thead>\n  <tbody>\n    <tr>\n      <th>0</th>\n      <td>-109.79</td>\n      <td>-84.01</td>\n      <td>-19.67</td>\n      <td>19.67</td>\n      <td>-64.33</td>\n      <td>-1.06</td>\n      <td>18.34</td>\n      <td>36.15</td>\n      <td>-84.27</td>\n      <td>-48.12</td>\n      <td>-73.64</td>\n      <td>-87.20</td>\n      <td>-25.79</td>\n      <td>-17.28</td>\n      <td>5.58</td>\n      <td>-33.23</td>\n      <td>-3.46</td>\n      <td>13.03</td>\n      <td>-1.33</td>\n      <td>-231.54</td>\n    </tr>\n    <tr>\n      <th>1</th>\n      <td>-105.80</td>\n      <td>-90.65</td>\n      <td>-31.10</td>\n      <td>12.49</td>\n      <td>-77.62</td>\n      <td>-13.29</td>\n      <td>9.04</td>\n      <td>31.63</td>\n      <td>-87.99</td>\n      <td>-57.16</td>\n      <td>-75.23</td>\n      <td>-84.27</td>\n      <td>-38.81</td>\n      <td>-28.18</td>\n      <td>-5.32</td>\n      <td>-45.99</td>\n      <td>-14.62</td>\n      <td>0.53</td>\n      <td>-11.96</td>\n      <td>-466.55</td>\n    </tr>\n    <tr>\n      <th>2</th>\n      <td>-126.81</td>\n      <td>-99.96</td>\n      <td>-41.74</td>\n      <td>5.58</td>\n      <td>-89.06</td>\n      <td>-23.39</td>\n      <td>3.46</td>\n      <td>32.70</td>\n      <td>-101.02</td>\n      <td>-68.05</td>\n      <td>-87.99</td>\n      <td>-102.88</td>\n      <td>-51.84</td>\n      <td>-38.01</td>\n      <td>-11.70</td>\n      <td>-58.48</td>\n      <td>-24.99</td>\n      <td>-6.65</td>\n      <td>-17.01</td>\n      <td>-486.49</td>\n    </tr>\n    <tr>\n      <th>3</th>\n      <td>-133.98</td>\n      <td>-97.56</td>\n      <td>-38.81</td>\n      <td>6.91</td>\n      <td>-94.11</td>\n      <td>-21.53</td>\n      <td>8.24</td>\n      <td>38.28</td>\n      <td>-105.54</td>\n      <td>-70.71</td>\n      <td>-91.18</td>\n      <td>-109.79</td>\n      <td>-49.98</td>\n      <td>-34.82</td>\n      <td>-7.71</td>\n      <td>-57.42</td>\n      <td>-19.67</td>\n      <td>-2.13</td>\n      <td>-10.37</td>\n      <td>-380.95</td>\n    </tr>\n    <tr>\n      <th>4</th>\n      <td>-114.04</td>\n      <td>-88.79</td>\n      <td>-33.50</td>\n      <td>10.10</td>\n      <td>-85.60</td>\n      <td>-22.06</td>\n      <td>6.38</td>\n      <td>37.48</td>\n      <td>-93.58</td>\n      <td>-65.93</td>\n      <td>-82.14</td>\n      <td>-91.45</td>\n      <td>-43.60</td>\n      <td>-29.77</td>\n      <td>-3.72</td>\n      <td>-53.17</td>\n      <td>-14.09</td>\n      <td>1.06</td>\n      <td>-11.43</td>\n      <td>-219.58</td>\n    </tr>\n  </tbody>\n</table>\n</div>"
     },
     "metadata": {},
     "output_type": "display_data"
    },
    {
     "name": "stdout",
     "output_type": "stream",
     "text": [
      "\n",
      "Informazioni sul dataframe:\n",
      "<class 'pandas.core.frame.DataFrame'>\n",
      "RangeIndex: 2000 entries, 0 to 1999\n",
      "Data columns (total 20 columns):\n",
      " #   Column  Non-Null Count  Dtype  \n",
      "---  ------  --------------  -----  \n",
      " 0   Fp1     2000 non-null   float64\n",
      " 1   F3      2000 non-null   float64\n",
      " 2   C3      2000 non-null   float64\n",
      " 3   P3      2000 non-null   float64\n",
      " 4   F7      2000 non-null   float64\n",
      " 5   T3      2000 non-null   float64\n",
      " 6   T5      2000 non-null   float64\n",
      " 7   O1      2000 non-null   float64\n",
      " 8   Fz      2000 non-null   float64\n",
      " 9   Cz      2000 non-null   float64\n",
      " 10  Pz      2000 non-null   float64\n",
      " 11  Fp2     2000 non-null   float64\n",
      " 12  F4      2000 non-null   float64\n",
      " 13  C4      2000 non-null   float64\n",
      " 14  P4      2000 non-null   float64\n",
      " 15  F8      2000 non-null   float64\n",
      " 16  T4      2000 non-null   float64\n",
      " 17  T6      2000 non-null   float64\n",
      " 18  O2      2000 non-null   float64\n",
      " 19  EKG     2000 non-null   float64\n",
      "dtypes: float64(20)\n",
      "memory usage: 312.6 KB\n"
     ]
    },
    {
     "data": {
      "text/plain": "None"
     },
     "metadata": {},
     "output_type": "display_data"
    },
    {
     "name": "stdout",
     "output_type": "stream",
     "text": [
      "\n",
      "Statistiche descrittive:\n"
     ]
    },
    {
     "data": {
      "text/plain": "               Fp1           F3           C3           P3           F7  \\\ncount  2000.000000  2000.000000  2000.000000  2000.000000  2000.000000   \nmean      0.337870    -0.024110   -11.552180     0.148260    -7.994950   \nstd      45.616686    42.644415    19.467654    18.359097    33.230435   \nmin    -133.980000  -117.500000   -57.160000   -43.330000  -111.390000   \n25%     -35.157500   -34.955000   -25.520000   -13.290000   -33.230000   \n50%      -0.800000     0.400000   -13.290000    -1.860000    -9.570000   \n75%      36.150000    31.100000    -0.530000    11.170000    18.870000   \nmax     111.120000   163.760000    57.160000    63.000000    67.260000   \n\n               T3           T5           O1          Fz           Cz  \\\ncount  2000.00000  2000.000000  2000.000000  2000.00000  2000.000000   \nmean     -9.46341   -14.007450     8.076015    31.95051    -5.756920   \nstd      24.50482    21.173448    13.785573    46.94837    21.237833   \nmin     -68.59000   -72.310000   -31.900000  -107.93000   -70.710000   \n25%     -27.38000   -29.240000    -1.060000    -3.78750   -20.805000   \n50%      -7.44000   -13.560000     6.380000    30.97000    -6.110000   \n75%       9.84000    -0.530000    15.420000    64.86000     6.910000   \nmax      51.31000    62.740000    78.160000   186.62000    58.750000   \n\n                Pz          Fp2           F4           C4           P4  \\\ncount  2000.000000  2000.000000  2000.000000  2000.000000  2000.000000   \nmean    -12.298065    11.725365    18.888585     3.944790     0.885495   \nstd      23.711095    41.877700    29.498745    18.973288    20.069057   \nmin     -95.700000  -109.790000   -91.180000   -57.420000   -55.830000   \n25%     -22.927500   -18.080000    -1.330000    -8.510000   -11.700000   \n50%      -9.570000     8.240000    16.750000     3.460000    -0.800000   \n75%       3.190000    43.397500    39.340000    14.360000    10.765000   \nmax      60.610000   133.980000    98.090000    73.900000    75.500000   \n\n                F8           T4           T6           O2          EKG  \ncount  2000.000000  2000.000000  2000.000000  2000.000000  2000.000000  \nmean      3.108205     0.480535     0.207835    -4.396410   -15.685540  \nstd      26.446742    20.723494    20.691213    12.488299    89.858128  \nmin     -76.830000   -56.890000   -61.140000   -43.600000  -531.680000  \n25%     -15.420000   -13.290000   -14.090000   -13.290000   -27.715000  \n50%       0.665000     0.270000     0.000000    -5.850000    -0.530000  \n75%      21.000000    14.360000    11.960000     3.460000    23.660000  \nmax      82.140000    68.320000    94.370000    41.470000   204.430000  ",
      "text/html": "<div>\n<style scoped>\n    .dataframe tbody tr th:only-of-type {\n        vertical-align: middle;\n    }\n\n    .dataframe tbody tr th {\n        vertical-align: top;\n    }\n\n    .dataframe thead th {\n        text-align: right;\n    }\n</style>\n<table border=\"1\" class=\"dataframe\">\n  <thead>\n    <tr style=\"text-align: right;\">\n      <th></th>\n      <th>Fp1</th>\n      <th>F3</th>\n      <th>C3</th>\n      <th>P3</th>\n      <th>F7</th>\n      <th>T3</th>\n      <th>T5</th>\n      <th>O1</th>\n      <th>Fz</th>\n      <th>Cz</th>\n      <th>Pz</th>\n      <th>Fp2</th>\n      <th>F4</th>\n      <th>C4</th>\n      <th>P4</th>\n      <th>F8</th>\n      <th>T4</th>\n      <th>T6</th>\n      <th>O2</th>\n      <th>EKG</th>\n    </tr>\n  </thead>\n  <tbody>\n    <tr>\n      <th>count</th>\n      <td>2000.000000</td>\n      <td>2000.000000</td>\n      <td>2000.000000</td>\n      <td>2000.000000</td>\n      <td>2000.000000</td>\n      <td>2000.00000</td>\n      <td>2000.000000</td>\n      <td>2000.000000</td>\n      <td>2000.00000</td>\n      <td>2000.000000</td>\n      <td>2000.000000</td>\n      <td>2000.000000</td>\n      <td>2000.000000</td>\n      <td>2000.000000</td>\n      <td>2000.000000</td>\n      <td>2000.000000</td>\n      <td>2000.000000</td>\n      <td>2000.000000</td>\n      <td>2000.000000</td>\n      <td>2000.000000</td>\n    </tr>\n    <tr>\n      <th>mean</th>\n      <td>0.337870</td>\n      <td>-0.024110</td>\n      <td>-11.552180</td>\n      <td>0.148260</td>\n      <td>-7.994950</td>\n      <td>-9.46341</td>\n      <td>-14.007450</td>\n      <td>8.076015</td>\n      <td>31.95051</td>\n      <td>-5.756920</td>\n      <td>-12.298065</td>\n      <td>11.725365</td>\n      <td>18.888585</td>\n      <td>3.944790</td>\n      <td>0.885495</td>\n      <td>3.108205</td>\n      <td>0.480535</td>\n      <td>0.207835</td>\n      <td>-4.396410</td>\n      <td>-15.685540</td>\n    </tr>\n    <tr>\n      <th>std</th>\n      <td>45.616686</td>\n      <td>42.644415</td>\n      <td>19.467654</td>\n      <td>18.359097</td>\n      <td>33.230435</td>\n      <td>24.50482</td>\n      <td>21.173448</td>\n      <td>13.785573</td>\n      <td>46.94837</td>\n      <td>21.237833</td>\n      <td>23.711095</td>\n      <td>41.877700</td>\n      <td>29.498745</td>\n      <td>18.973288</td>\n      <td>20.069057</td>\n      <td>26.446742</td>\n      <td>20.723494</td>\n      <td>20.691213</td>\n      <td>12.488299</td>\n      <td>89.858128</td>\n    </tr>\n    <tr>\n      <th>min</th>\n      <td>-133.980000</td>\n      <td>-117.500000</td>\n      <td>-57.160000</td>\n      <td>-43.330000</td>\n      <td>-111.390000</td>\n      <td>-68.59000</td>\n      <td>-72.310000</td>\n      <td>-31.900000</td>\n      <td>-107.93000</td>\n      <td>-70.710000</td>\n      <td>-95.700000</td>\n      <td>-109.790000</td>\n      <td>-91.180000</td>\n      <td>-57.420000</td>\n      <td>-55.830000</td>\n      <td>-76.830000</td>\n      <td>-56.890000</td>\n      <td>-61.140000</td>\n      <td>-43.600000</td>\n      <td>-531.680000</td>\n    </tr>\n    <tr>\n      <th>25%</th>\n      <td>-35.157500</td>\n      <td>-34.955000</td>\n      <td>-25.520000</td>\n      <td>-13.290000</td>\n      <td>-33.230000</td>\n      <td>-27.38000</td>\n      <td>-29.240000</td>\n      <td>-1.060000</td>\n      <td>-3.78750</td>\n      <td>-20.805000</td>\n      <td>-22.927500</td>\n      <td>-18.080000</td>\n      <td>-1.330000</td>\n      <td>-8.510000</td>\n      <td>-11.700000</td>\n      <td>-15.420000</td>\n      <td>-13.290000</td>\n      <td>-14.090000</td>\n      <td>-13.290000</td>\n      <td>-27.715000</td>\n    </tr>\n    <tr>\n      <th>50%</th>\n      <td>-0.800000</td>\n      <td>0.400000</td>\n      <td>-13.290000</td>\n      <td>-1.860000</td>\n      <td>-9.570000</td>\n      <td>-7.44000</td>\n      <td>-13.560000</td>\n      <td>6.380000</td>\n      <td>30.97000</td>\n      <td>-6.110000</td>\n      <td>-9.570000</td>\n      <td>8.240000</td>\n      <td>16.750000</td>\n      <td>3.460000</td>\n      <td>-0.800000</td>\n      <td>0.665000</td>\n      <td>0.270000</td>\n      <td>0.000000</td>\n      <td>-5.850000</td>\n      <td>-0.530000</td>\n    </tr>\n    <tr>\n      <th>75%</th>\n      <td>36.150000</td>\n      <td>31.100000</td>\n      <td>-0.530000</td>\n      <td>11.170000</td>\n      <td>18.870000</td>\n      <td>9.84000</td>\n      <td>-0.530000</td>\n      <td>15.420000</td>\n      <td>64.86000</td>\n      <td>6.910000</td>\n      <td>3.190000</td>\n      <td>43.397500</td>\n      <td>39.340000</td>\n      <td>14.360000</td>\n      <td>10.765000</td>\n      <td>21.000000</td>\n      <td>14.360000</td>\n      <td>11.960000</td>\n      <td>3.460000</td>\n      <td>23.660000</td>\n    </tr>\n    <tr>\n      <th>max</th>\n      <td>111.120000</td>\n      <td>163.760000</td>\n      <td>57.160000</td>\n      <td>63.000000</td>\n      <td>67.260000</td>\n      <td>51.31000</td>\n      <td>62.740000</td>\n      <td>78.160000</td>\n      <td>186.62000</td>\n      <td>58.750000</td>\n      <td>60.610000</td>\n      <td>133.980000</td>\n      <td>98.090000</td>\n      <td>73.900000</td>\n      <td>75.500000</td>\n      <td>82.140000</td>\n      <td>68.320000</td>\n      <td>94.370000</td>\n      <td>41.470000</td>\n      <td>204.430000</td>\n    </tr>\n  </tbody>\n</table>\n</div>"
     },
     "metadata": {},
     "output_type": "display_data"
    }
   ],
   "source": [
    "import pandas as pd\n",
    "\n",
    "# Carica il file .parquet\n",
    "df = pd.read_csv('./dataset/train_eegs/338.csv')\n",
    "\n",
    "\n",
    "# Visualizza le prime righe del dataframe\n",
    "print(\"Prime 5 righe del dataframe:\")\n",
    "display(df.head())\n",
    "\n",
    "# Informazioni sul dataframe\n",
    "print(\"\\nInformazioni sul dataframe:\")\n",
    "display(df.info())\n",
    "\n",
    "# Statistiche descrittive del dataframe\n",
    "print(\"\\nStatistiche descrittive:\")\n",
    "display(df.describe())"
   ]
  },
  {
   "cell_type": "markdown",
   "source": [
    "# Preprocess"
   ],
   "metadata": {
    "collapsed": false
   }
  },
  {
   "cell_type": "code",
   "execution_count": null,
   "outputs": [],
   "source": [
    "import os\n",
    "import pandas as pd\n",
    "import pyarrow.parquet as pq\n",
    "import numpy as np\n",
    "from scipy.interpolate import interp1d\n",
    "\n",
    "dataset_csv_path = \"dataset/dataset.csv\"\n",
    "dataset_df = pd.read_csv(dataset_csv_path)\n",
    "eegs_folder = \"dataset/eegs\"\n",
    "\n",
    "# Funzione per estrarre la finestra di 10 secondi\n",
    "def preprocess_window(eeg_id, offset_seconds):\n",
    "\n",
    "    sample_rate = 200\n",
    "\n",
    "    eeg = pd.read_parquet(os.path.join(eegs_folder, f\"{eeg_id}.parquet\"))\n",
    "    eeg_offset = int(offset_seconds)\n",
    "    eeg_sub = eeg.iloc[eeg_offset * sample_rate:(eeg_offset + 50) * sample_rate]  # extract 50 seconds\n",
    "\n",
    "    central_index = len(eeg_sub) // 2  # central index\n",
    "    labeled_eeg = eeg.iloc[central_index - 5*sample_rate:central_index + 5*sample_rate]  # extract central 10 seconds\n",
    "\n",
    "    eeg_window = preprocess_data(labeled_eeg)\n",
    "\n",
    "    return eeg_window\n",
    "\n",
    "# Funzione per eseguire il preprocessing dei dati\n",
    "def preprocess_data(data):\n",
    "\n",
    "    nan_values = data[data.isna().any(axis=1)]\n",
    "    print(nan_values)\n",
    "\n",
    "    if nan_values.any():\n",
    "        x = np.arange(len(data))\n",
    "        nan_indices_interp = interp1d(x[~nan_values], data[~nan_values], axis=0, kind=\"linear\", fill_value=\"extrapolate\")\n",
    "        data = data.copy()  # Creare una copia esplicita del DataFrame\n",
    "        data.loc[nan_values] = nan_indices_interp(x[nan_values]).astype(np.float32)\n",
    "\n",
    "        print(f\"Numero di valori NaN rispetto al totale dei valori: {nan_values.size} / {data.size}\")\n",
    "        print(nan_values)\n",
    "\n",
    "\n",
    "    # Aggiungi altri passaggi di preprocessing qui, se necessario\n",
    "\n",
    "    return data\n",
    "\n",
    "preprocessed_df = pd.DataFrame()\n",
    "\n",
    "for index, row in dataset_df.iterrows():\n",
    "    preprocessed_data = preprocess_window(row[\"eeg_id\"], row[\"eeg_label_offset_seconds\"])\n",
    "    preprocessed_df = pd.concat([preprocessed_df, pd.DataFrame(preprocessed_data)], ignore_index=True)\n",
    "\n",
    "\n",
    "# preprocessed_csv_path = \"preprocessed.csv\"\n",
    "# preprocessed_df.to_csv(preprocessed_csv_path, index=False)\n"
   ],
   "metadata": {
    "collapsed": false
   }
  },
  {
   "cell_type": "code",
   "execution_count": 6,
   "outputs": [],
   "source": [],
   "metadata": {
    "collapsed": false
   }
  },
  {
   "cell_type": "code",
   "execution_count": 7,
   "outputs": [],
   "source": [
    "import pandas as pd\n",
    "\n",
    "eegs_folder = './dataset/train_eegs'\n",
    "eegs_metadata = pd.read_csv('./dataset/train.csv')\n",
    "\n",
    "for index, row in eegs_metadata.iterrows():\n",
    "    eeg_path = f\"{eegs_folder}/{row['eeg_id']}.parquet\"\n",
    "    eeg = pd.read_parquet(eeg_path)\n",
    "    eeg_offset = int(row[\"eeg_label_offset_seconds\"])\n",
    "    eeg = eeg.iloc[eeg_offset * 200:(eeg_offset + 50) * 200]  # extract 50 seconds\n",
    "\n",
    "    central_index = len(eeg) // 2  # central index\n",
    "    labeled_eeg = eeg.iloc[central_index - 1000:central_index + 1000]   # extract central 10 seconds\n",
    "\n",
    "    if len(labeled_eeg) != 2000:\n",
    "        print(f\"Warning: labeled_eeg {index} has {len(labeled_eeg)} rows instead of 2000\")\n",
    "\n"
   ],
   "metadata": {
    "collapsed": false
   }
  },
  {
   "cell_type": "code",
   "execution_count": 14,
   "outputs": [
    {
     "name": "stdout",
     "output_type": "stream",
     "text": [
      "Finestre temporali totali:  74760\n"
     ]
    }
   ],
   "source": [
    "import pandas as pd\n",
    "\n",
    "eegs_metadata = pd.read_csv('./dataset/train.csv')\n",
    "\n",
    "total_rows = len(eegs_metadata)\n",
    "print(\"Finestre temporali totali: \", total_rows)\n",
    "\n",
    "# Numero totale di valori nella colonna label_id\n",
    "total_label_ids = eegs_metadata['label_id'].count()\n",
    "# Numero di valori unici nella colonna label_id\n",
    "unique_label_ids = eegs_metadata['label_id'].nunique()\n",
    "\n",
    "# # Verifica se il numero totale di righe corrisponde al numero totale di valori nella colonna label_id\n",
    "# assert (total_rows == total_label_ids)\n",
    "# # Verifica se il numero totale di valori unici nella colonna label_id corrisponde al numero totale di valori nella colonna label_id\n",
    "# assert (total_label_ids == unique_label_ids)"
   ],
   "metadata": {
    "collapsed": false
   }
  },
  {
   "cell_type": "code",
   "execution_count": 21,
   "outputs": [
    {
     "name": "stdout",
     "output_type": "stream",
     "text": [
      "Finestre temporali totali:  106800\n",
      "Finestre temporali train:  74760\n",
      "Finestre temporali test:  16020\n",
      "Finestre temporali val:  16020\n"
     ]
    }
   ],
   "source": [
    "eegs_metadata = pd.read_csv('./dataset/dataset.csv')\n",
    "\n",
    "total_rows = len(eegs_metadata)\n",
    "print(\"Finestre temporali totali: \", total_rows)\n",
    "\n",
    "train_eegs_metadata = pd.read_csv('./dataset/train.csv')\n",
    "\n",
    "train_total_rows = len(train_eegs_metadata)\n",
    "print(\"Finestre temporali train: \", train_total_rows)\n",
    "\n",
    "test_eegs_metadata = pd.read_csv('./dataset/test.csv')\n",
    "\n",
    "test_total_rows = len(test_eegs_metadata)\n",
    "print(\"Finestre temporali test: \", test_total_rows)\n",
    "\n",
    "val_eegs_metadata = pd.read_csv('./dataset/val.csv')\n",
    "\n",
    "val_total_rows = len(val_eegs_metadata)\n",
    "print(\"Finestre temporali val: \", val_total_rows)\n",
    "\n",
    "assert (total_rows == (train_total_rows+test_total_rows+val_total_rows))"
   ],
   "metadata": {
    "collapsed": false
   }
  },
  {
   "cell_type": "markdown",
   "source": [
    "# Check nan values"
   ],
   "metadata": {
    "collapsed": false
   }
  },
  {
   "cell_type": "code",
   "execution_count": 1,
   "outputs": [
    {
     "name": "stdout",
     "output_type": "stream",
     "text": [
      "Non ci sono valori nulli o NaN nel dataset.\n"
     ]
    }
   ],
   "source": [
    "import pandas as pd\n",
    "\n",
    "# Carica il dataset\n",
    "dataset = pd.read_csv('./dataset/dataset.csv')\n",
    "\n",
    "# Controlla se ci sono valori nulli o NaN\n",
    "null_values = dataset.isnull().any().any()\n",
    "\n",
    "if null_values:\n",
    "    print(\"Ci sono valori nulli o NaN nel dataset.\")\n",
    "else:\n",
    "    print(\"Non ci sono valori nulli o NaN nel dataset.\")\n"
   ],
   "metadata": {
    "collapsed": false
   }
  },
  {
   "cell_type": "markdown",
   "source": [
    "# Check windows"
   ],
   "metadata": {
    "collapsed": false
   }
  },
  {
   "cell_type": "code",
   "execution_count": 14,
   "outputs": [
    {
     "name": "stderr",
     "output_type": "stream",
     "text": [
      "  0%|          | 0/106800 [00:00<?, ?it/s]"
     ]
    },
    {
     "name": "stdout",
     "output_type": "stream",
     "text": [
      "              Fp1          F3          C3          P3          F7          T3  \\\n",
      "0      -80.519997  -70.540001  -80.110001 -108.750000 -120.330002  -88.620003   \n",
      "1      -80.449997  -70.330002  -81.760002 -107.669998 -120.769997  -90.820000   \n",
      "2      -80.209999  -75.870003  -82.050003 -106.010002 -117.500000  -87.489998   \n",
      "3      -84.709999  -75.339996  -87.480003 -108.970001 -121.410004  -94.750000   \n",
      "4      -90.570000  -80.790001  -93.000000 -113.870003 -129.960007 -102.860001   \n",
      "...           ...         ...         ...         ...         ...         ...   \n",
      "17995 -144.660004 -147.809998 -129.820007 -129.460007 -157.509995 -124.000000   \n",
      "17996 -140.880005 -153.000000 -129.529999 -129.020004 -154.059998 -131.220001   \n",
      "17997 -133.729996 -141.770004 -121.900002 -122.370003 -158.750000 -123.550003   \n",
      "17998 -141.449997 -151.139999 -127.190002 -128.699997 -163.460007 -124.309998   \n",
      "17999 -138.669998 -147.210007 -122.820000 -128.289993 -164.869995 -124.239998   \n",
      "\n",
      "               T5          O1          Fz          Cz         Pz         Fp2  \\\n",
      "0     -101.750000 -104.489998  -99.129997  -90.389999 -97.040001  -77.989998   \n",
      "1     -104.260002  -99.730003  -99.070000  -92.290001 -96.019997  -84.500000   \n",
      "2      -99.589996  -96.820000 -119.680000  -99.360001 -91.110001  -99.440002   \n",
      "3     -105.370003 -100.279999 -113.839996 -102.059998 -95.040001  -99.230003   \n",
      "4     -118.599998 -101.099998 -107.660004 -102.339996 -98.510002  -95.300003   \n",
      "...           ...         ...         ...         ...        ...         ...   \n",
      "17995 -124.570000  -94.820000 -153.070007 -121.110001 -86.459999 -132.520004   \n",
      "17996 -128.380005  -95.000000 -140.820007 -114.639999 -84.379997 -115.339996   \n",
      "17997 -127.730003  -93.089996 -125.230003 -106.489998 -83.419998 -112.720001   \n",
      "17998 -129.479996  -94.419998 -140.869995 -113.339996 -83.519997 -129.300003   \n",
      "17999 -129.339996  -95.320000 -136.789993 -112.820000 -84.660004 -129.380005   \n",
      "\n",
      "               F4          C4          P4          F8         T4          T6  \\\n",
      "0      -88.830002 -112.120003 -108.110001  -95.949997 -98.360001 -121.730003   \n",
      "1      -84.989998 -115.610001 -103.860001  -97.470001 -89.290001 -115.500000   \n",
      "2     -104.589996 -127.529999 -113.349998  -95.870003 -96.019997 -123.879997   \n",
      "3     -101.220001 -125.769997 -111.889999  -97.459999 -97.180000 -128.940002   \n",
      "4      -88.930000 -115.639999  -99.800003  -97.500000 -88.730003 -114.849998   \n",
      "...           ...         ...         ...         ...        ...         ...   \n",
      "17995 -138.339996 -128.970001  -71.300003 -114.480003 -86.709999 -114.959999   \n",
      "17996 -119.230003 -114.709999  -70.989998  -92.129997 -79.639999 -116.139999   \n",
      "17997 -103.209999 -107.629997  -61.869999  -97.910004 -77.150002 -106.500000   \n",
      "17998 -118.650002 -117.589996  -71.879997  -99.279999 -83.900002 -116.160004   \n",
      "17999 -123.180000 -122.889999  -79.910004 -101.459999 -84.339996 -125.989998   \n",
      "\n",
      "               O2        EKG  \n",
      "0     -106.449997   7.920000  \n",
      "1     -102.059998  29.219999  \n",
      "2     -105.790001  45.740002  \n",
      "3     -109.889999  83.870003  \n",
      "4     -100.250000  97.769997  \n",
      "...           ...        ...  \n",
      "17995  -81.500000 -20.070000  \n",
      "17996  -81.879997  10.600000  \n",
      "17997  -75.339996  -2.060000  \n",
      "17998  -81.410004   2.820000  \n",
      "17999  -89.110001  35.279999  \n",
      "\n",
      "[18000 rows x 20 columns]\n",
      "             Fp1          F3          C3          P3          F7          T3  \\\n",
      "0     -80.519997  -70.540001  -80.110001 -108.750000 -120.330002  -88.620003   \n",
      "1     -80.449997  -70.330002  -81.760002 -107.669998 -120.769997  -90.820000   \n",
      "2     -80.209999  -75.870003  -82.050003 -106.010002 -117.500000  -87.489998   \n",
      "3     -84.709999  -75.339996  -87.480003 -108.970001 -121.410004  -94.750000   \n",
      "4     -90.570000  -80.790001  -93.000000 -113.870003 -129.960007 -102.860001   \n",
      "...          ...         ...         ...         ...         ...         ...   \n",
      "9995 -140.039993 -128.100006 -137.339996 -160.830002 -153.630005 -136.279999   \n",
      "9996 -152.169998 -161.449997 -173.210007 -165.320007 -143.570007 -124.150002   \n",
      "9997 -149.619995 -147.479996 -171.960007 -152.589996 -137.279999 -105.550003   \n",
      "9998 -126.860001 -122.889999 -125.879997 -130.339996 -134.779999 -134.350006   \n",
      "9999 -131.339996 -153.470001 -168.320007 -155.339996 -123.169998  -82.660004   \n",
      "\n",
      "              T5          O1          Fz          Cz          Pz         Fp2  \\\n",
      "0    -101.750000 -104.489998  -99.129997  -90.389999  -97.040001  -77.989998   \n",
      "1    -104.260002  -99.730003  -99.070000  -92.290001  -96.019997  -84.500000   \n",
      "2     -99.589996  -96.820000 -119.680000  -99.360001  -91.110001  -99.440002   \n",
      "3    -105.370003 -100.279999 -113.839996 -102.059998  -95.040001  -99.230003   \n",
      "4    -118.599998 -101.099998 -107.660004 -102.339996  -98.510002  -95.300003   \n",
      "...          ...         ...         ...         ...         ...         ...   \n",
      "9995 -137.009995  -93.349998 -145.130005 -155.830002 -124.650002 -123.250000   \n",
      "9996 -127.339996  -87.309998 -160.919998 -158.360001 -121.870003 -129.550003   \n",
      "9997 -122.220001  -80.010002 -156.039993 -155.119995 -116.360001 -118.099998   \n",
      "9998 -127.080002  -76.739998 -137.649994 -146.800003 -111.720001 -114.199997   \n",
      "9999 -122.050003  -77.889999 -148.979996 -149.880005 -112.050003 -112.910004   \n",
      "\n",
      "              F4          C4          P4          F8          T4          T6  \\\n",
      "0     -88.830002 -112.120003 -108.110001  -95.949997  -98.360001 -121.730003   \n",
      "1     -84.989998 -115.610001 -103.860001  -97.470001  -89.290001 -115.500000   \n",
      "2    -104.589996 -127.529999 -113.349998  -95.870003  -96.019997 -123.879997   \n",
      "3    -101.220001 -125.769997 -111.889999  -97.459999  -97.180000 -128.940002   \n",
      "4     -88.930000 -115.639999  -99.800003  -97.500000  -88.730003 -114.849998   \n",
      "...          ...         ...         ...         ...         ...         ...   \n",
      "9995 -127.709999 -169.759995  -68.489998 -117.669998  -69.239998 -115.309998   \n",
      "9996 -121.470001 -120.339996  -68.029999 -135.130005 -105.190002 -114.330002   \n",
      "9997 -113.690002 -102.760002  -67.839996 -120.410004 -109.099998 -116.419998   \n",
      "9998 -106.739998 -104.699997  -60.240002 -154.119995 -129.639999 -110.029999   \n",
      "9999 -102.180000  -71.809998  -56.290001 -133.979996 -148.220001 -108.330002   \n",
      "\n",
      "              O2        EKG  \n",
      "0    -106.449997   7.920000  \n",
      "1    -102.059998  29.219999  \n",
      "2    -105.790001  45.740002  \n",
      "3    -109.889999  83.870003  \n",
      "4    -100.250000  97.769997  \n",
      "...          ...        ...  \n",
      "9995 -123.860001  65.010002  \n",
      "9996 -121.029999  47.090000  \n",
      "9997 -119.099998  95.589996  \n",
      "9998 -116.239998  72.980003  \n",
      "9999 -114.339996  25.549999  \n",
      "\n",
      "[10000 rows x 20 columns]\n",
      "             Fp1          F3          C3          P3          F7          T3  \\\n",
      "4000 -116.839996 -123.959999 -128.309998 -164.490005 -139.279999 -113.559998   \n",
      "4001 -118.199997 -130.479996 -132.850006 -168.889999 -134.990005 -127.180000   \n",
      "4002 -118.269997 -128.360001 -128.410004 -166.669998 -137.570007 -119.190002   \n",
      "4003 -110.550003 -118.169998 -122.550003 -164.160004 -136.470001 -114.480003   \n",
      "4004 -110.629997 -123.209999 -126.940002 -166.259995 -135.369995 -129.320007   \n",
      "...          ...         ...         ...         ...         ...         ...   \n",
      "5995 -114.070000 -125.779999 -118.830002 -114.930000 -130.029999 -101.510002   \n",
      "5996 -113.809998 -122.180000 -117.309998 -115.230003 -137.699997 -109.110001   \n",
      "5997 -111.419998 -124.570000 -121.190002 -115.500000 -135.229996 -109.349998   \n",
      "5998 -115.169998 -127.269997 -115.879997 -113.199997 -137.899994 -105.190002   \n",
      "5999 -111.320000 -123.269997 -125.169998 -116.410004 -136.570007 -105.230003   \n",
      "\n",
      "              T5          O1          Fz          Cz          Pz         Fp2  \\\n",
      "4000 -128.679993 -140.050003 -134.000000 -118.510002 -127.300003 -119.559998   \n",
      "4001 -132.789993 -141.539993 -144.759995 -120.440002 -126.029999 -123.849998   \n",
      "4002 -132.289993 -143.559998 -143.199997 -117.580002 -121.800003 -124.500000   \n",
      "4003 -137.429993 -144.970001 -124.660004 -106.459999 -118.870003 -104.239998   \n",
      "4004 -140.660004 -146.580002 -130.179993 -107.379997 -117.440002 -103.589996   \n",
      "...          ...         ...         ...         ...         ...         ...   \n",
      "5995  -97.040001 -110.940002 -216.750000 -115.019997  -76.629997 -112.879997   \n",
      "5996 -103.160004 -111.459999 -201.029999 -106.720001  -76.940002 -103.610001   \n",
      "5997 -104.989998 -110.839996 -208.740005 -112.209999  -77.519997 -104.339996   \n",
      "5998  -99.839996 -110.699997 -219.800003 -118.589996  -78.180000 -108.830002   \n",
      "5999 -103.669998 -114.300003 -204.000000 -109.970001  -81.019997  -96.690002   \n",
      "\n",
      "              F4          C4          P4          F8          T4          T6  \\\n",
      "4000 -110.849998 -135.199997 -118.029999 -125.269997  -96.169998 -119.000000   \n",
      "4001 -116.389999 -125.410004 -121.050003 -125.110001  -94.050003 -119.900002   \n",
      "4002 -118.070000 -126.690002 -120.650002 -125.699997  -98.699997 -123.510002   \n",
      "4003  -98.269997 -118.389999 -109.779999 -108.769997  -84.150002 -111.790001   \n",
      "4004  -98.120003 -119.080002 -107.070000 -102.019997  -66.199997 -104.559998   \n",
      "...          ...         ...         ...         ...         ...         ...   \n",
      "5995 -117.309998 -159.860001 -203.179993 -110.690002  -93.669998 -117.889999   \n",
      "5996  -98.050003 -136.740005 -198.839996 -116.500000 -114.900002 -113.190002   \n",
      "5997 -100.540001 -168.960007 -202.470001 -110.349998  -90.730003 -112.500000   \n",
      "5998 -115.480003 -190.800003 -213.910004  -92.769997  -71.709999 -125.459999   \n",
      "5999  -96.820000 -135.300003 -218.059998  -99.449997 -103.199997 -132.929993   \n",
      "\n",
      "              O2         EKG  \n",
      "4000 -102.230003   35.759998  \n",
      "4001 -104.199997   20.469999  \n",
      "4002 -107.699997   66.629997  \n",
      "4003 -102.879997   40.660000  \n",
      "4004 -100.629997  -45.830002  \n",
      "...          ...         ...  \n",
      "5995  -97.739998  106.900002  \n",
      "5996  -97.540001  150.350006  \n",
      "5997  -96.839996  130.889999  \n",
      "5998 -102.059998  154.419998  \n",
      "5999 -106.800003  186.339996  \n",
      "\n",
      "[2000 rows x 20 columns]\n"
     ]
    },
    {
     "name": "stderr",
     "output_type": "stream",
     "text": [
      "\n"
     ]
    }
   ],
   "source": [
    "import os\n",
    "import pandas as pd\n",
    "import numpy as np\n",
    "from tqdm import tqdm\n",
    "import matplotlib as plt\n",
    "import concurrent.futures\n",
    "\n",
    "dataset_csv_path = \"dataset/dataset.csv\"\n",
    "dataset_df = pd.read_csv(dataset_csv_path)\n",
    "eegs_folder = \"dataset/eegs\"\n",
    "eeg_windows_path = \"dataset/eeg_windows\"\n",
    "\n",
    "files_with_nan = []\n",
    "\n",
    "sample_rate = 200\n",
    "window_len = 50\n",
    "\n",
    "\n",
    "for index, row in tqdm(dataset_df.iterrows(), total=len(dataset_df)):\n",
    "    label_id = row[\"label_id\"]\n",
    "    window_csv_path = os.path.join(eeg_windows_path, f\"{label_id}.csv\")\n",
    "    eeg_id = row[\"eeg_id\"]\n",
    "    offset_seconds = row[\"eeg_label_offset_seconds\"]\n",
    "\n",
    "    eeg = pd.read_parquet(os.path.join(eegs_folder, f\"{eeg_id}.parquet\"))\n",
    "    print(eeg)\n",
    "    eeg_sub = eeg.iloc[int(offset_seconds) * sample_rate:(int(offset_seconds) + window_len) * sample_rate]  # extract 50 seconds\n",
    "    print(eeg_sub)\n",
    "    labeled_eeg = eeg_sub.iloc[20 * sample_rate:30 * sample_rate]  # extract central 10 seconds\n",
    "    print(labeled_eeg)\n",
    "\n",
    "    break\n"
   ],
   "metadata": {
    "collapsed": false
   }
  },
  {
   "cell_type": "markdown",
   "source": [
    "# Spectr"
   ],
   "metadata": {
    "collapsed": false
   }
  },
  {
   "cell_type": "code",
   "execution_count": null,
   "outputs": [],
   "source": [],
   "metadata": {
    "collapsed": false
   }
  },
  {
   "cell_type": "code",
   "execution_count": null,
   "outputs": [],
   "source": [
    "import os\n",
    "import pandas as pd\n",
    "import numpy as np\n",
    "from scipy.interpolate import interp1d\n",
    "from tqdm import tqdm\n",
    "import concurrent.futures\n",
    "\n",
    "dataset_csv_path = \"dataset/dataset.csv\"\n",
    "dataset_df = pd.read_csv(dataset_csv_path)\n",
    "eegs_folder = \"dataset/spectrograms\"\n",
    "eeg_windows_path = \"dataset/spectr_windows\"\n",
    "\n",
    "files_with_nan = []\n",
    "\n",
    "\n",
    "# Funzione per estrarre la finestra di 10 secondi\n",
    "def extract_window(eeg_id, offset_seconds):\n",
    "    window_len = 600  # 10 minutes\n",
    "    labeled_len = 10\n",
    "\n",
    "    eeg = pd.read_parquet(os.path.join(eegs_folder, f\"{eeg_id}.parquet\"))\n",
    "    eeg_sub = eeg.loc[(eeg.time>=offset_seconds) & (spec.time<offset_seconds+600)]\n",
    "    labeled_eeg = eeg_sub.iloc[(central_index-5) * sample_rate:(central_index+5) * sample_rate]  # extract central 10 seconds\n",
    "\n",
    "    # Controllo dei valori NaN\n",
    "    if labeled_eeg.isnull().values.any():\n",
    "        files_with_nan.append(eeg_id)\n",
    "\n",
    "    return labeled_eeg\n",
    "\n",
    "\n",
    "\n",
    "# Funzione per estrarre la finestra di 10 secondi in parallelo\n",
    "def extract_window_parallel(args):\n",
    "    eeg_id, offset_seconds = args\n",
    "    return extract_window(eeg_id, offset_seconds)\n",
    "\n",
    "\n",
    "# Controllo e rigenerazione del file se il numero di righe nel DataFrame |0 2000\n",
    "def regenerate_file_if_needed(window_csv_path):\n",
    "    if os.path.exists(window_csv_path):\n",
    "        window_df = pd.read_csv(window_csv_path)\n",
    "        if len(window_df) != 5:\n",
    "            os.remove(window_csv_path)\n",
    "            return True\n",
    "    return False\n",
    "\n",
    "\n",
    "# Esecuzione parallela dell'estrazione delle finestre EEG\n",
    "def parallel_extraction():\n",
    "    args_list = [(row[\"eeg_id\"], row[\"eeg_label_offset_seconds\"]) for index, row in dataset_df.iterrows()]\n",
    "\n",
    "    with concurrent.futures.ProcessPoolExecutor() as executor:\n",
    "        windows = list(tqdm(executor.map(extract_window_parallel, args_list), total=len(args_list)))\n",
    "\n",
    "    return windows\n",
    "\n",
    "\n",
    "# Controllo per verificare se label_id unique count uguale alla lunghezza del DataFrame dataset_df\n",
    "if dataset_df[\"label_id\"].nunique() != len(dataset_df):\n",
    "    raise ValueError(\"Il conteggio unico di label_id non e uguale alla lunghezza del DataFrame dataset_df.\")\n",
    "\n",
    "if not os.path.exists(eeg_windows_path):\n",
    "    os.makedirs(eeg_windows_path)\n",
    "\n",
    "# Controllo e rigenerazione dei file delle finestre EEG\n",
    "for index, row in tqdm(dataset_df.iterrows(), total=len(dataset_df)):\n",
    "    label_id = row[\"label_id\"]\n",
    "    window_csv_path = os.path.join(eeg_windows_path, f\"{label_id}.csv\")\n",
    "\n",
    "    if regenerate_file_if_needed(window_csv_path):\n",
    "        continue\n",
    "\n",
    "    if os.path.exists(window_csv_path):\n",
    "        continue\n",
    "\n",
    "    window = extract_window(row[\"eeg_id\"], row[\"eeg_label_offset_seconds\"])\n",
    "    window.to_csv(window_csv_path, index=False)\n",
    "\n",
    "# Esecuzione parallela dell'estrazione delle finestre EEG e salvataggio in file CSV\n",
    "windows = parallel_extraction()\n",
    "for index, row in tqdm(dataset_df.iterrows(), total=len(dataset_df)):\n",
    "    label_id = row[\"label_id\"]\n",
    "    window_csv_path = os.path.join(eeg_windows_path, f\"{label_id}.csv\")\n",
    "\n",
    "    if not os.path.exists(window_csv_path):\n",
    "        window = windows[index]\n",
    "        window.to_csv(window_csv_path, index=False)\n",
    "\n",
    "\n"
   ],
   "metadata": {
    "collapsed": false
   }
  },
  {
   "cell_type": "code",
   "execution_count": 61,
   "outputs": [],
   "source": [
    "import numpy as np # linear algebra\n",
    "import pandas as pd # data processing, CSV file I/O (e.g. pd.read_csv)\n",
    "import matplotlib.pyplot as plt\n",
    "%matplotlib agg\n",
    "import os\n",
    "from PIL import Image\n",
    "\n",
    "spec_zones=['LL','RL','LP','RP']\n",
    "\n",
    "def generate_spectrogram(specid, specoffset,labelid='sample',\n",
    "                         input_path=\"dataset/spectrograms/\", spec_out=\"dataset/spectr_windows/\",\n",
    "                         spec_zones=spec_zones,\n",
    "                        output_filter=0.5):\n",
    "\n",
    "    #get spec data\n",
    "    spec = pd.read_parquet(f'{input_path}{specid}.parquet')\n",
    "    spec = spec.fillna(0)\n",
    "    #take subsample of 600sec (10min)\n",
    "    spec= spec.loc[(spec.time>=specoffset) & (spec.time<specoffset+600)]\n",
    "    spec = spec.loc[(spec.time>specoffset+300-5) & (spec.time<=specoffset+300+5)]\n",
    "    print(spec)\n",
    "    #adpat dataset\n",
    "    spec=spec.set_index('time')\n",
    "    spec=spec.T\n",
    "    spec['column']=spec.index.str.split('_', expand=True)\n",
    "\n",
    "    spec['freq'] = spec.column.apply(lambda x: x[1]).astype(float)\n",
    "    spec['brainreg'] = spec.column.apply(lambda x: x[0]).astype(str)\n",
    "\n",
    "    spec=spec.drop('column', axis=1)\n",
    "    spec.set_index('freq',inplace=True)\n",
    "    #generate subdatases from brain zones\n",
    "    subspec=dict()\n",
    "    for zone in spec_zones:\n",
    "        subspec[f'{zone}_sub']=spec[spec.brainreg==zone]\n",
    "        subspec[f'{zone}_sub']= subspec[f'{zone}_sub'].drop('brainreg', axis=1)\n",
    "\n",
    "    # generate the graph\n",
    "\n",
    "    fig, ax = plt.subplots(nrows=len(spec_zones), figsize=(3,3), sharex=True)\n",
    "    for row in range(len(spec_zones)):\n",
    "        data=subspec[f'{spec_zones[row]}_sub']\n",
    "        ax[row].imshow(data, cmap='turbo',\n",
    "                       aspect='auto',\n",
    "                       origin='lower',\n",
    "                       extent=[data.columns.min(),data.columns.max(),data.index.min(),data.index.max()],\n",
    "                      vmin=0,vmax=data.max().max()*output_filter)\n",
    "\n",
    "        ax[row].set_xticks([])\n",
    "        ax[row].set_yticks([])\n",
    "\n",
    "    plt.subplots_adjust(hspace=0.01)\n",
    "\n",
    "    save_path= f'{spec_out}{specid}_{labelid}.jpeg'\n",
    "    fig.savefig(save_path,bbox_inches='tight', dpi=100)\n",
    "    plt.close()\n",
    "    #plt.show()\n",
    "    return save_path\n"
   ],
   "metadata": {
    "collapsed": false
   }
  },
  {
   "cell_type": "code",
   "execution_count": 63,
   "outputs": [
    {
     "name": "stdout",
     "output_type": "stream",
     "text": [
      "     time     LL_0.59     LL_0.78     LL_0.98     LL_1.17    LL_1.37  \\\n",
      "148   297   43.060001   58.410000   68.230003   67.779999  55.709999   \n",
      "149   299  167.880005  184.190002  180.350006  157.830002  66.279999   \n",
      "150   301  217.800003  297.209991  292.420013  199.210007  97.419998   \n",
      "151   303  187.169998  196.949997  226.149994  125.120003  60.840000   \n",
      "152   305   88.360001  128.020004  108.709999  105.250000  71.089996   \n",
      "\n",
      "       LL_1.56    LL_1.76    LL_1.95    LL_2.15  ...  RP_18.16  RP_18.36  \\\n",
      "148  38.900002  17.070000  17.950001  18.040001  ...      0.08      0.09   \n",
      "149  31.840000  26.670000  19.290001  24.620001  ...      0.10      0.10   \n",
      "150  42.509998  24.260000  20.040001  28.240000  ...      0.40      0.25   \n",
      "151  56.889999  34.919998  27.639999  22.020000  ...      0.44      0.26   \n",
      "152  65.389999  42.540001  36.070000  44.799999  ...      0.20      0.21   \n",
      "\n",
      "     RP_18.55  RP_18.75  RP_18.95  RP_19.14  RP_19.34  RP_19.53  RP_19.73  \\\n",
      "148      0.12      0.11      0.12      0.12      0.10      0.08      0.14   \n",
      "149      0.08      0.08      0.08      0.08      0.09      0.08      0.11   \n",
      "150      0.09      0.09      0.11      0.14      0.17      0.16      0.18   \n",
      "151      0.18      0.11      0.13      0.16      0.22      0.24      0.21   \n",
      "152      0.19      0.21      0.09      0.12      0.18      0.20      0.24   \n",
      "\n",
      "     RP_19.92  \n",
      "148      0.09  \n",
      "149      0.12  \n",
      "150      0.15  \n",
      "151      0.18  \n",
      "152      0.23  \n",
      "\n",
      "[5 rows x 401 columns]\n"
     ]
    },
    {
     "data": {
      "text/plain": "<PIL.JpegImagePlugin.JpegImageFile image mode=RGB size=252x251>",
      "image/png": "[encoded data removed]",
      "image/jpeg": "[encoded data removed]"
     },
     "execution_count": 63,
     "metadata": {},
     "output_type": "execute_result"
    }
   ],
   "source": [
    "# spect_path=generate_spectrogram(353733,0, output_filter=0.7)\n",
    "spect_path=generate_spectrogram(1084844,0, output_filter=0.7)\n",
    "Image.open(spect_path)"
   ],
   "metadata": {
    "collapsed": false
   }
  },
  {
   "cell_type": "code",
   "execution_count": 64,
   "outputs": [],
   "source": [
    "def generate_spectrogram(specid, specoffset,labelid='sample',\n",
    "                         input_path=\"dataset/spectrograms/\", spec_out=\"dataset/spectr_windows/\",\n",
    "                         spec_zones=spec_zones,\n",
    "                         output_filter=0.5):\n",
    "\n",
    "    #get spec data\n",
    "    spec = pd.read_parquet(f'{input_path}{specid}.parquet')\n",
    "    spec = spec.fillna(0)\n",
    "    #take subsample of 600sec (10min)\n",
    "    spec= spec.loc[(spec.time>=specoffset) & (spec.time<specoffset+600)]\n",
    "    spec = spec.loc[(spec.time>specoffset+300-5) & (spec.time<=specoffset+300+5)]\n",
    "    print(spec)\n",
    "    #adpat dataset\n",
    "    spec=spec.set_index('time')\n",
    "    spec=spec.T\n",
    "    spec['column']=spec.index.str.split('_', expand=True)\n",
    "\n",
    "    spec['freq'] = spec.column.apply(lambda x: x[1]).astype(float)\n",
    "    spec['brainreg'] = spec.column.apply(lambda x: x[0]).astype(str)\n",
    "\n",
    "    spec=spec.drop('column', axis=1)\n",
    "    spec.set_index('freq',inplace=True)\n",
    "    #generate subdatases from brain zones\n",
    "    subspec=dict()\n",
    "    for zone in spec_zones:\n",
    "        subspec[f'{zone}_sub']=spec[spec.brainreg==zone]\n",
    "        subspec[f'{zone}_sub']= subspec[f'{zone}_sub'].drop('brainreg', axis=1)\n",
    "\n",
    "    # Genera il grafico dello spettrogramma con dimensioni specificate\n",
    "    fig, ax = plt.subplots(nrows=len(spec_zones), figsize=(6.4, 6.4), sharex=True)  # 256x256 pixel a 100 dpi\n",
    "    for row in range(len(spec_zones)):\n",
    "        data=subspec[f'{spec_zones[row]}_sub']\n",
    "        ax[row].imshow(data, cmap='turbo',\n",
    "                       aspect='auto',\n",
    "                       origin='lower',\n",
    "                       extent=[data.columns.min(),data.columns.max(),data.index.min(),data.index.max()],\n",
    "                      vmin=0,vmax=data.max().max()*output_filter)\n",
    "\n",
    "        ax[row].set_xticks([])\n",
    "        ax[row].set_yticks([])\n",
    "\n",
    "    plt.subplots_adjust(hspace=0.01)\n",
    "\n",
    "    # Salva l'immagine in formato .png\n",
    "    save_path= f'{spec_out}{specid}_{labelid}.png'\n",
    "    fig.savefig(save_path, bbox_inches='tight', dpi=100)\n",
    "    plt.close()\n",
    "\n",
    "    return save_path\n"
   ],
   "metadata": {
    "collapsed": false
   }
  },
  {
   "cell_type": "code",
   "execution_count": 65,
   "outputs": [
    {
     "name": "stdout",
     "output_type": "stream",
     "text": [
      "     time     LL_0.59     LL_0.78     LL_0.98     LL_1.17    LL_1.37  \\\n",
      "148   297   43.060001   58.410000   68.230003   67.779999  55.709999   \n",
      "149   299  167.880005  184.190002  180.350006  157.830002  66.279999   \n",
      "150   301  217.800003  297.209991  292.420013  199.210007  97.419998   \n",
      "151   303  187.169998  196.949997  226.149994  125.120003  60.840000   \n",
      "152   305   88.360001  128.020004  108.709999  105.250000  71.089996   \n",
      "\n",
      "       LL_1.56    LL_1.76    LL_1.95    LL_2.15  ...  RP_18.16  RP_18.36  \\\n",
      "148  38.900002  17.070000  17.950001  18.040001  ...      0.08      0.09   \n",
      "149  31.840000  26.670000  19.290001  24.620001  ...      0.10      0.10   \n",
      "150  42.509998  24.260000  20.040001  28.240000  ...      0.40      0.25   \n",
      "151  56.889999  34.919998  27.639999  22.020000  ...      0.44      0.26   \n",
      "152  65.389999  42.540001  36.070000  44.799999  ...      0.20      0.21   \n",
      "\n",
      "     RP_18.55  RP_18.75  RP_18.95  RP_19.14  RP_19.34  RP_19.53  RP_19.73  \\\n",
      "148      0.12      0.11      0.12      0.12      0.10      0.08      0.14   \n",
      "149      0.08      0.08      0.08      0.08      0.09      0.08      0.11   \n",
      "150      0.09      0.09      0.11      0.14      0.17      0.16      0.18   \n",
      "151      0.18      0.11      0.13      0.16      0.22      0.24      0.21   \n",
      "152      0.19      0.21      0.09      0.12      0.18      0.20      0.24   \n",
      "\n",
      "     RP_19.92  \n",
      "148      0.09  \n",
      "149      0.12  \n",
      "150      0.15  \n",
      "151      0.18  \n",
      "152      0.23  \n",
      "\n",
      "[5 rows x 401 columns]\n"
     ]
    },
    {
     "data": {
      "text/plain": "<PIL.PngImagePlugin.PngImageFile image mode=RGBA size=515x512>",
      "image/png": "[encoded data removed]"
     },
     "execution_count": 65,
     "metadata": {},
     "output_type": "execute_result"
    }
   ],
   "source": [
    "spect_path=generate_spectrogram(1084844,0, output_filter=0.7)\n",
    "Image.open(spect_path)"
   ],
   "metadata": {
    "collapsed": false
   }
  }
 ],
 "metadata": {
  "kernelspec": {
   "display_name": "Python 3",
   "language": "python",
   "name": "python3"
  },
  "language_info": {
   "codemirror_mode": {
    "name": "ipython",
    "version": 2
   },
   "file_extension": ".py",
   "mimetype": "text/x-python",
   "name": "python",
   "nbconvert_exporter": "python",
   "pygments_lexer": "ipython2",
   "version": "2.7.6"
  }
 },
 "nbformat": 4,
 "nbformat_minor": 0
}
